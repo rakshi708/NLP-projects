{
 "cells": [
  {
   "cell_type": "markdown",
   "id": "36444427-fb92-4cf1-8d0e-e7fce6b96969",
   "metadata": {},
   "source": [
    "# Spooky Author Identification Model\n",
    "\n",
    "Model : sort the text as per its author."
   ]
  },
  {
   "cell_type": "markdown",
   "id": "7083350f-5af1-4dec-8f4f-3da799ada460",
   "metadata": {},
   "source": [
    "## Importing Libraries"
   ]
  },
  {
   "cell_type": "code",
   "execution_count": 72,
   "id": "f92a25b4-9069-4081-b55b-b6777f57245b",
   "metadata": {},
   "outputs": [],
   "source": [
    "import pandas as pd\n",
    "import numpy as np\n",
    "import matplotlib.pyplot as ply\n",
    "import seaborn as sns\n",
    "sns.set()"
   ]
  },
  {
   "cell_type": "code",
   "execution_count": 73,
   "id": "6b530a77-106b-410c-a919-0adf05cc3674",
   "metadata": {},
   "outputs": [],
   "source": [
    "data = pd.read_csv(\"spooky_train.csv\")"
   ]
  },
  {
   "cell_type": "code",
   "execution_count": 74,
   "id": "68479bc1-0388-4692-a587-65d927b63ae6",
   "metadata": {},
   "outputs": [
    {
     "data": {
      "text/html": [
       "<div>\n",
       "<style scoped>\n",
       "    .dataframe tbody tr th:only-of-type {\n",
       "        vertical-align: middle;\n",
       "    }\n",
       "\n",
       "    .dataframe tbody tr th {\n",
       "        vertical-align: top;\n",
       "    }\n",
       "\n",
       "    .dataframe thead th {\n",
       "        text-align: right;\n",
       "    }\n",
       "</style>\n",
       "<table border=\"1\" class=\"dataframe\">\n",
       "  <thead>\n",
       "    <tr style=\"text-align: right;\">\n",
       "      <th></th>\n",
       "      <th>id</th>\n",
       "      <th>text</th>\n",
       "      <th>author</th>\n",
       "    </tr>\n",
       "  </thead>\n",
       "  <tbody>\n",
       "    <tr>\n",
       "      <th>0</th>\n",
       "      <td>id26305</td>\n",
       "      <td>This process, however, afforded me no means of...</td>\n",
       "      <td>EAP</td>\n",
       "    </tr>\n",
       "    <tr>\n",
       "      <th>1</th>\n",
       "      <td>id17569</td>\n",
       "      <td>It never once occurred to me that the fumbling...</td>\n",
       "      <td>HPL</td>\n",
       "    </tr>\n",
       "    <tr>\n",
       "      <th>2</th>\n",
       "      <td>id11008</td>\n",
       "      <td>In his left hand was a gold snuff box, from wh...</td>\n",
       "      <td>EAP</td>\n",
       "    </tr>\n",
       "    <tr>\n",
       "      <th>3</th>\n",
       "      <td>id27763</td>\n",
       "      <td>How lovely is spring As we looked from Windsor...</td>\n",
       "      <td>MWS</td>\n",
       "    </tr>\n",
       "    <tr>\n",
       "      <th>4</th>\n",
       "      <td>id12958</td>\n",
       "      <td>Finding nothing else, not even gold, the Super...</td>\n",
       "      <td>HPL</td>\n",
       "    </tr>\n",
       "  </tbody>\n",
       "</table>\n",
       "</div>"
      ],
      "text/plain": [
       "        id                                               text author\n",
       "0  id26305  This process, however, afforded me no means of...    EAP\n",
       "1  id17569  It never once occurred to me that the fumbling...    HPL\n",
       "2  id11008  In his left hand was a gold snuff box, from wh...    EAP\n",
       "3  id27763  How lovely is spring As we looked from Windsor...    MWS\n",
       "4  id12958  Finding nothing else, not even gold, the Super...    HPL"
      ]
     },
     "execution_count": 74,
     "metadata": {},
     "output_type": "execute_result"
    }
   ],
   "source": [
    "data.head()"
   ]
  },
  {
   "cell_type": "code",
   "execution_count": 75,
   "id": "1a6df895-a15b-4e65-88a9-8cdef3160b0d",
   "metadata": {},
   "outputs": [
    {
     "data": {
      "text/html": [
       "<div>\n",
       "<style scoped>\n",
       "    .dataframe tbody tr th:only-of-type {\n",
       "        vertical-align: middle;\n",
       "    }\n",
       "\n",
       "    .dataframe tbody tr th {\n",
       "        vertical-align: top;\n",
       "    }\n",
       "\n",
       "    .dataframe thead th {\n",
       "        text-align: right;\n",
       "    }\n",
       "</style>\n",
       "<table border=\"1\" class=\"dataframe\">\n",
       "  <thead>\n",
       "    <tr style=\"text-align: right;\">\n",
       "      <th></th>\n",
       "      <th>id</th>\n",
       "      <th>text</th>\n",
       "      <th>author</th>\n",
       "    </tr>\n",
       "  </thead>\n",
       "  <tbody>\n",
       "    <tr>\n",
       "      <th>count</th>\n",
       "      <td>19579</td>\n",
       "      <td>19579</td>\n",
       "      <td>19579</td>\n",
       "    </tr>\n",
       "    <tr>\n",
       "      <th>unique</th>\n",
       "      <td>19579</td>\n",
       "      <td>19579</td>\n",
       "      <td>3</td>\n",
       "    </tr>\n",
       "    <tr>\n",
       "      <th>top</th>\n",
       "      <td>id26305</td>\n",
       "      <td>This process, however, afforded me no means of...</td>\n",
       "      <td>EAP</td>\n",
       "    </tr>\n",
       "    <tr>\n",
       "      <th>freq</th>\n",
       "      <td>1</td>\n",
       "      <td>1</td>\n",
       "      <td>7900</td>\n",
       "    </tr>\n",
       "  </tbody>\n",
       "</table>\n",
       "</div>"
      ],
      "text/plain": [
       "             id                                               text author\n",
       "count     19579                                              19579  19579\n",
       "unique    19579                                              19579      3\n",
       "top     id26305  This process, however, afforded me no means of...    EAP\n",
       "freq          1                                                  1   7900"
      ]
     },
     "execution_count": 75,
     "metadata": {},
     "output_type": "execute_result"
    }
   ],
   "source": [
    "data.describe()"
   ]
  },
  {
   "cell_type": "markdown",
   "id": "c54d190e-674e-46c7-b1aa-60e10a587f40",
   "metadata": {},
   "source": [
    "## Preprocessing the data"
   ]
  },
  {
   "cell_type": "code",
   "execution_count": 76,
   "id": "aa261e81-6d78-4e1f-90cd-081c57dfcf28",
   "metadata": {},
   "outputs": [
    {
     "name": "stderr",
     "output_type": "stream",
     "text": [
      "[nltk_data] Downloading package punkt to\n",
      "[nltk_data]     C:\\Users\\RAKSHITA\\AppData\\Roaming\\nltk_data...\n",
      "[nltk_data]   Package punkt is already up-to-date!\n",
      "[nltk_data] Downloading package wordnet to\n",
      "[nltk_data]     C:\\Users\\RAKSHITA\\AppData\\Roaming\\nltk_data...\n",
      "[nltk_data]   Package wordnet is already up-to-date!\n",
      "[nltk_data] Downloading package stopwords to\n",
      "[nltk_data]     C:\\Users\\RAKSHITA\\AppData\\Roaming\\nltk_data...\n",
      "[nltk_data]   Package stopwords is already up-to-date!\n"
     ]
    },
    {
     "data": {
      "text/plain": [
       "True"
      ]
     },
     "execution_count": 76,
     "metadata": {},
     "output_type": "execute_result"
    }
   ],
   "source": [
    "# importing the libraries\n",
    "import pandas as pd\n",
    "import string\n",
    "import nltk\n",
    "from nltk.tokenize import word_tokenize\n",
    "from nltk.stem import PorterStemmer\n",
    "from nltk.stem import WordNetLemmatizer\n",
    "from nltk.corpus import stopwords\n",
    "from sklearn.model_selection import train_test_split\n",
    "from sklearn.feature_extraction.text import TfidfVectorizer\n",
    "\n",
    "# Download necessary NLTK data files (only need to run once)\n",
    "nltk.download('punkt')\n",
    "nltk.download('wordnet')\n",
    "nltk.download('stopwords')"
   ]
  },
  {
   "cell_type": "code",
   "execution_count": 77,
   "id": "ff1849a4-1dff-4eac-8a77-8447a54c163b",
   "metadata": {},
   "outputs": [],
   "source": [
    "stemmer = PorterStemmer()\n",
    "lemmate = WordNetLemmatizer()\n",
    "def preprocessing (text):\n",
    "    text = text.lower()\n",
    "    text = text.replace(r'[^a-zA-Z]', \"\")\n",
    "    token = word_tokenize(text)\n",
    "    stem = [stemmer.stem(word) for word in token]\n",
    "    lemman = [lemmate.lemmatize(word) for word in stem]\n",
    "    return \" \".join(lemman)"
   ]
  },
  {
   "cell_type": "code",
   "execution_count": 78,
   "id": "f69994a7-ac6c-4f2b-9a32-1028b86683c1",
   "metadata": {},
   "outputs": [],
   "source": [
    "x = data[\"text\"]"
   ]
  },
  {
   "cell_type": "code",
   "execution_count": 79,
   "id": "276a77e2-4654-4dcf-b2bc-8bf287f81fa0",
   "metadata": {},
   "outputs": [],
   "source": [
    "x = x.apply(lambda x: preprocessing(x))"
   ]
  },
  {
   "cell_type": "code",
   "execution_count": 80,
   "id": "3b2c2796-d224-4732-a600-9d38eef6cfdc",
   "metadata": {},
   "outputs": [],
   "source": [
    "x = x.str.replace(r'[a-zA-Z]',\"\")"
   ]
  },
  {
   "cell_type": "markdown",
   "id": "8db83e89-37b6-43f5-97de-d69115d3115a",
   "metadata": {},
   "source": [
    "### Vectorisation"
   ]
  },
  {
   "cell_type": "code",
   "execution_count": 81,
   "id": "09e41bf9-af84-4bc4-8169-66d72db8be18",
   "metadata": {},
   "outputs": [],
   "source": [
    "y = data[\"author\"].map({\"EAP\": 0, \"HPL\": 1, \"MWS\":2})"
   ]
  },
  {
   "cell_type": "code",
   "execution_count": 82,
   "id": "75dbabec-ccaa-4356-bf7f-1238c79862ec",
   "metadata": {},
   "outputs": [],
   "source": [
    "vectorise = TfidfVectorizer(stop_words =\"english\")\n",
    "X = vectorise.fit_transform(x)"
   ]
  },
  {
   "cell_type": "markdown",
   "id": "dbd4cb21-5ec1-4277-9cb7-9979cdd0edd1",
   "metadata": {},
   "source": [
    "## Model"
   ]
  },
  {
   "cell_type": "code",
   "execution_count": 83,
   "id": "1848f553-0e71-4b66-8564-e169490ff691",
   "metadata": {},
   "outputs": [],
   "source": [
    "from sklearn.naive_bayes import MultinomialNB\n",
    "from sklearn.metrics import accuracy_score, classification_report\n",
    "\n",
    "m = MultinomialNB()\n",
    "model = m.fit(X,y)"
   ]
  },
  {
   "cell_type": "code",
   "execution_count": 84,
   "id": "eed4e890-b973-404b-9b4a-896aff393f2f",
   "metadata": {},
   "outputs": [],
   "source": [
    "pred_train = model.predict(X)"
   ]
  },
  {
   "cell_type": "code",
   "execution_count": 85,
   "id": "90730385-a4f4-4742-9f61-597f4a644dfe",
   "metadata": {},
   "outputs": [
    {
     "data": {
      "text/plain": [
       "0.8828847234281628"
      ]
     },
     "execution_count": 85,
     "metadata": {},
     "output_type": "execute_result"
    }
   ],
   "source": [
    "score_train = accuracy_score(y,pred_train)\n",
    "score"
   ]
  },
  {
   "cell_type": "code",
   "execution_count": 86,
   "id": "b0cda29d-50ed-484b-b7a9-8ed823954592",
   "metadata": {},
   "outputs": [
    {
     "data": {
      "text/plain": [
       "'              precision    recall  f1-score   support\\n\\n           0       0.85      0.92      0.88      7900\\n           1       0.95      0.82      0.88      5635\\n           2       0.88      0.88      0.88      6044\\n\\n    accuracy                           0.88     19579\\n   macro avg       0.89      0.88      0.88     19579\\nweighted avg       0.89      0.88      0.88     19579\\n'"
      ]
     },
     "execution_count": 86,
     "metadata": {},
     "output_type": "execute_result"
    }
   ],
   "source": [
    "report = classification_report(y,pred_train)\n",
    "report"
   ]
  },
  {
   "cell_type": "code",
   "execution_count": 87,
   "id": "1b9578e5-579b-4ca2-bb31-783b283943be",
   "metadata": {},
   "outputs": [],
   "source": [
    "test = pd.read_csv(\"Spooky_test.csv\")\n"
   ]
  },
  {
   "cell_type": "code",
   "execution_count": 88,
   "id": "2fc55077-d699-4b1d-8dc5-051509a1800b",
   "metadata": {},
   "outputs": [],
   "source": [
    "X_test = test[\"text\"]"
   ]
  },
  {
   "cell_type": "code",
   "execution_count": 89,
   "id": "b9dcbe66-54ed-4faf-bd27-576f2ae5f914",
   "metadata": {},
   "outputs": [],
   "source": [
    "X_test = X_test.apply(lambda x: preprocessing(x))"
   ]
  },
  {
   "cell_type": "code",
   "execution_count": 90,
   "id": "88b93bdb-2993-40ba-af7c-0b8ab90f4df3",
   "metadata": {},
   "outputs": [],
   "source": [
    "X_test_t = vectorise.transform(X_test)"
   ]
  },
  {
   "cell_type": "code",
   "execution_count": 91,
   "id": "eb88a8e2-17a9-4f99-847e-790b9f394aa2",
   "metadata": {},
   "outputs": [],
   "source": [
    "pred_test = model.predict(X_test_t)"
   ]
  },
  {
   "cell_type": "code",
   "execution_count": 92,
   "id": "34287515-cfc3-4b6d-b13a-2e9312136bd3",
   "metadata": {},
   "outputs": [
    {
     "data": {
      "text/plain": [
       "array([2, 0, 1, ..., 0, 2, 1], dtype=int64)"
      ]
     },
     "execution_count": 92,
     "metadata": {},
     "output_type": "execute_result"
    }
   ],
   "source": [
    "pred_test"
   ]
  },
  {
   "cell_type": "code",
   "execution_count": null,
   "id": "3d71dd9c-e754-47b2-bf33-1645aa70c192",
   "metadata": {},
   "outputs": [],
   "source": []
  }
 ],
 "metadata": {
  "kernelspec": {
   "display_name": "Python 3 (ipykernel)",
   "language": "python",
   "name": "python3"
  },
  "language_info": {
   "codemirror_mode": {
    "name": "ipython",
    "version": 3
   },
   "file_extension": ".py",
   "mimetype": "text/x-python",
   "name": "python",
   "nbconvert_exporter": "python",
   "pygments_lexer": "ipython3",
   "version": "3.12.7"
  }
 },
 "nbformat": 4,
 "nbformat_minor": 5
}
